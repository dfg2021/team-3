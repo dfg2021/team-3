{
 "cells": [
  {
   "cell_type": "code",
   "execution_count": 5,
   "id": "df550a72",
   "metadata": {},
   "outputs": [],
   "source": [
    "#Country of focus\n",
    "countries = ['Afghanistan', 'Albania', 'Algeria', 'Angola', 'Antigua and Barbuda', 'Argentina', 'Armenia', 'Azerbaijan', 'Bangladesh', 'Belarus', 'Belize', 'Benin', 'Bhutan','Bolivia', 'Bosnia and Herzegovina', 'Botswana', 'Brazil', 'Bulgaria', 'Burkina Faso', 'Burundi', 'Cabo Verde', 'Cambodia', 'Cameroon', 'Central African Republic', 'Chad', 'Chile', 'China', 'Colombia', 'Comoros', 'Congo','Congo, Democratic Republic', 'Costa Rica', 'Croatia', \"Côte d'Ivoire\", 'Djibouti', 'Dominica', 'Dominican Republic', 'Ecuador', 'Egypt', 'El Salvador', 'Equatorial Guinea', 'Eritrea', 'Eswatini', 'Ethiopia', 'Fiji', 'Gabon', 'Gambia', 'Georgia', 'Ghana', 'Grenada', 'Guatemala', 'Guinea', 'Guinea-Bissau', 'Guyana', 'Haiti', 'Honduras', 'India', 'Indonesia', 'Iran (Islamic Republic of)', 'Iraq', 'Jamaica', 'Jordan', 'Kazakhstan', 'Kenya', 'Kiribati', 'Kosovo', 'Kyrgyzstan', \"Lao People's Democratic Republic\", 'Lebanon', 'Lesotho', 'Liberia', 'Libya', 'Madagascar', 'Malawi', 'Malaysia', 'Maldives', 'Mali', 'Marshall Islands', 'Mauritania', 'Mauritius', 'Mexico', 'Micronesia (Federated States of)','Moldova', 'Mongolia', 'Montenegro', 'Morocco', 'Mozambique', 'Myanmar', 'Namibia', 'Nauru', 'Nepal', 'Nicaragua', 'Niger', 'Nigeria', 'North Macedonia', 'Pakistan', 'Palau', 'Panama', 'Papua New Guinea', 'Paraguay', 'Peru', 'Philippines', 'Poland', 'Romania', 'Russian Federation', 'Rwanda', 'Saint Kitts and Nevis', 'Saint Lucia', 'Saint Vincent and the Grenadines', 'Samoa', 'Sao Tome and Principe', 'Senegal', 'Serbia', 'Seychelles', 'Sierra Leone', 'Solomon Islands', 'Somalia', 'South Africa', 'South Sudan', 'Sri Lanka', 'Sudan', 'Suriname', 'Syrian Arab Republic', 'Tajikistan', 'Thailand', 'Timor-Leste', 'Togo', 'Tonga', 'Trinidad and Tobago', 'Tunisia', 'Turkey', 'Turkmenistan', 'Tuvalu', 'Uganda', 'Ukraine', 'United Republic of Tanzania', 'Uruguay', 'Uzbekistan', 'Vanuatu','Venezuela', 'Vietnam', 'Yemen', 'Zambia', 'Zimbabwe']"
   ]
  },
  {
   "cell_type": "code",
   "execution_count": 33,
   "id": "288605ef",
   "metadata": {},
   "outputs": [],
   "source": [
    "import numpy as np\n",
    "import pandas as pd\n",
    "import matplotlib.pyplot as plt\n",
    "import seaborn as sns\n",
    "from math import sqrt\n",
    "import collections\n",
    "import itertools\n",
    "\n",
    "from sklearn import preprocessing\n",
    "from sklearn import metrics\n",
    "from sklearn.impute import SimpleImputer\n",
    "from sklearn.preprocessing import LabelEncoder, MinMaxScaler, StandardScaler\n",
    "from sklearn import metrics\n",
    "from sklearn.metrics import mean_squared_error\n",
    "from sklearn.model_selection import train_test_split, RandomizedSearchCV, GridSearchCV, cross_val_score\n",
    "from sklearn.ensemble import RandomForestRegressor, GradientBoostingRegressor\n",
    "from xgboost import XGBRegressor\n",
    "from sklearn.cluster import KMeans\n",
    "from sklearn.neighbors import KNeighborsRegressor\n",
    "from sklearn.svm import SVR"
   ]
  },
  {
   "cell_type": "code",
   "execution_count": 7,
   "id": "c236ce15",
   "metadata": {},
   "outputs": [],
   "source": [
    "import warnings\n",
    "warnings.filterwarnings(\"ignore\")"
   ]
  },
  {
   "cell_type": "code",
   "execution_count": 8,
   "id": "45c45e92",
   "metadata": {},
   "outputs": [],
   "source": [
    "Goal4 = pd.read_excel('Goal4.xlsx')"
   ]
  },
  {
   "cell_type": "markdown",
   "id": "f1b217e2",
   "metadata": {},
   "source": [
    "**Data Preprocessing**"
   ]
  },
  {
   "cell_type": "code",
   "execution_count": 9,
   "id": "d7e28f05",
   "metadata": {},
   "outputs": [],
   "source": [
    "data = Goal4[Goal4[\"GeoAreaName\"].isin(countries)]"
   ]
  },
  {
   "cell_type": "code",
   "execution_count": 10,
   "id": "c640b6ce",
   "metadata": {},
   "outputs": [],
   "source": [
    "data = data.loc[data['Indicator'] == '4.4.1']"
   ]
  },
  {
   "cell_type": "code",
   "execution_count": 11,
   "id": "a8225e96",
   "metadata": {},
   "outputs": [],
   "source": [
    "# data subset\n",
    "data = data[['Value','GeoAreaName','TimePeriod','Sex', 'Type of skill']] #'Education level','Location',\n",
    "# change colnames\n",
    "data.rename(columns = {'GeoAreaName' : 'Country', 'TimePeriod' : 'Year', 'Type of skill' : 'Skill'}, inplace = True)\n",
    "#'Education level' : 'Level'"
   ]
  },
  {
   "cell_type": "code",
   "execution_count": 12,
   "id": "6bc72bfd",
   "metadata": {},
   "outputs": [],
   "source": [
    "# remove NAs\n",
    "data = data.dropna()"
   ]
  },
  {
   "cell_type": "code",
   "execution_count": 13,
   "id": "852b93f9",
   "metadata": {},
   "outputs": [
    {
     "data": {
      "text/plain": [
       "Value      float64\n",
       "Country     object\n",
       "Year         int64\n",
       "Sex         object\n",
       "Skill       object\n",
       "dtype: object"
      ]
     },
     "execution_count": 13,
     "metadata": {},
     "output_type": "execute_result"
    }
   ],
   "source": [
    "data.dtypes"
   ]
  },
  {
   "cell_type": "code",
   "execution_count": 14,
   "id": "497e9c1d",
   "metadata": {},
   "outputs": [
    {
     "name": "stdout",
     "output_type": "stream",
     "text": [
      "(2811, 5)\n"
     ]
    },
    {
     "data": {
      "text/html": [
       "<div>\n",
       "<style scoped>\n",
       "    .dataframe tbody tr th:only-of-type {\n",
       "        vertical-align: middle;\n",
       "    }\n",
       "\n",
       "    .dataframe tbody tr th {\n",
       "        vertical-align: top;\n",
       "    }\n",
       "\n",
       "    .dataframe thead th {\n",
       "        text-align: right;\n",
       "    }\n",
       "</style>\n",
       "<table border=\"1\" class=\"dataframe\">\n",
       "  <thead>\n",
       "    <tr style=\"text-align: right;\">\n",
       "      <th></th>\n",
       "      <th>Value</th>\n",
       "      <th>Country</th>\n",
       "      <th>Year</th>\n",
       "      <th>Sex</th>\n",
       "      <th>Skill</th>\n",
       "    </tr>\n",
       "  </thead>\n",
       "  <tbody>\n",
       "    <tr>\n",
       "      <th>87476</th>\n",
       "      <td>16.12054</td>\n",
       "      <td>Albania</td>\n",
       "      <td>2019</td>\n",
       "      <td>BOTHSEX</td>\n",
       "      <td>COPA</td>\n",
       "    </tr>\n",
       "    <tr>\n",
       "      <th>87477</th>\n",
       "      <td>13.89042</td>\n",
       "      <td>Albania</td>\n",
       "      <td>2019</td>\n",
       "      <td>BOTHSEX</td>\n",
       "      <td>SOFT</td>\n",
       "    </tr>\n",
       "    <tr>\n",
       "      <th>87478</th>\n",
       "      <td>12.57493</td>\n",
       "      <td>Albania</td>\n",
       "      <td>2019</td>\n",
       "      <td>FEMALE</td>\n",
       "      <td>SOFT</td>\n",
       "    </tr>\n",
       "    <tr>\n",
       "      <th>87479</th>\n",
       "      <td>21.55040</td>\n",
       "      <td>Albania</td>\n",
       "      <td>2019</td>\n",
       "      <td>MALE</td>\n",
       "      <td>TRAF</td>\n",
       "    </tr>\n",
       "    <tr>\n",
       "      <th>87480</th>\n",
       "      <td>1.35666</td>\n",
       "      <td>Albania</td>\n",
       "      <td>2019</td>\n",
       "      <td>FEMALE</td>\n",
       "      <td>PCPR</td>\n",
       "    </tr>\n",
       "  </tbody>\n",
       "</table>\n",
       "</div>"
      ],
      "text/plain": [
       "          Value  Country  Year      Sex Skill\n",
       "87476  16.12054  Albania  2019  BOTHSEX  COPA\n",
       "87477  13.89042  Albania  2019  BOTHSEX  SOFT\n",
       "87478  12.57493  Albania  2019   FEMALE  SOFT\n",
       "87479  21.55040  Albania  2019     MALE  TRAF\n",
       "87480   1.35666  Albania  2019   FEMALE  PCPR"
      ]
     },
     "execution_count": 14,
     "metadata": {},
     "output_type": "execute_result"
    }
   ],
   "source": [
    "print(data.shape)\n",
    "data.head()"
   ]
  },
  {
   "cell_type": "code",
   "execution_count": 15,
   "id": "013a502c",
   "metadata": {},
   "outputs": [
    {
     "data": {
      "text/html": [
       "<div>\n",
       "<style scoped>\n",
       "    .dataframe tbody tr th:only-of-type {\n",
       "        vertical-align: middle;\n",
       "    }\n",
       "\n",
       "    .dataframe tbody tr th {\n",
       "        vertical-align: top;\n",
       "    }\n",
       "\n",
       "    .dataframe thead th {\n",
       "        text-align: right;\n",
       "    }\n",
       "</style>\n",
       "<table border=\"1\" class=\"dataframe\">\n",
       "  <thead>\n",
       "    <tr style=\"text-align: right;\">\n",
       "      <th></th>\n",
       "      <th>Value</th>\n",
       "      <th>Year</th>\n",
       "    </tr>\n",
       "  </thead>\n",
       "  <tbody>\n",
       "    <tr>\n",
       "      <th>count</th>\n",
       "      <td>2811.000000</td>\n",
       "      <td>2811.000000</td>\n",
       "    </tr>\n",
       "    <tr>\n",
       "      <th>mean</th>\n",
       "      <td>20.876142</td>\n",
       "      <td>2016.922448</td>\n",
       "    </tr>\n",
       "    <tr>\n",
       "      <th>std</th>\n",
       "      <td>16.481385</td>\n",
       "      <td>1.614337</td>\n",
       "    </tr>\n",
       "    <tr>\n",
       "      <th>min</th>\n",
       "      <td>0.013830</td>\n",
       "      <td>2014.000000</td>\n",
       "    </tr>\n",
       "    <tr>\n",
       "      <th>25%</th>\n",
       "      <td>7.049675</td>\n",
       "      <td>2016.000000</td>\n",
       "    </tr>\n",
       "    <tr>\n",
       "      <th>50%</th>\n",
       "      <td>17.755920</td>\n",
       "      <td>2017.000000</td>\n",
       "    </tr>\n",
       "    <tr>\n",
       "      <th>75%</th>\n",
       "      <td>30.633755</td>\n",
       "      <td>2018.000000</td>\n",
       "    </tr>\n",
       "    <tr>\n",
       "      <th>max</th>\n",
       "      <td>72.801010</td>\n",
       "      <td>2019.000000</td>\n",
       "    </tr>\n",
       "  </tbody>\n",
       "</table>\n",
       "</div>"
      ],
      "text/plain": [
       "             Value         Year\n",
       "count  2811.000000  2811.000000\n",
       "mean     20.876142  2016.922448\n",
       "std      16.481385     1.614337\n",
       "min       0.013830  2014.000000\n",
       "25%       7.049675  2016.000000\n",
       "50%      17.755920  2017.000000\n",
       "75%      30.633755  2018.000000\n",
       "max      72.801010  2019.000000"
      ]
     },
     "execution_count": 15,
     "metadata": {},
     "output_type": "execute_result"
    }
   ],
   "source": [
    "data.describe()"
   ]
  },
  {
   "cell_type": "code",
   "execution_count": 16,
   "id": "743c3fa8",
   "metadata": {
    "scrolled": true
   },
   "outputs": [
    {
     "data": {
      "image/png": "[encoded data removed]",
      "text/plain": [
       "<Figure size 432x288 with 1 Axes>"
      ]
     },
     "metadata": {
      "needs_background": "light"
     },
     "output_type": "display_data"
    }
   ],
   "source": [
    "plt.hist(data['Value'], bins = 25)\n",
    "plt.xlabel('Value')\n",
    "_ = plt.ylabel('Count')"
   ]
  },
  {
   "cell_type": "code",
   "execution_count": 17,
   "id": "5cff85ac",
   "metadata": {},
   "outputs": [
    {
     "name": "stdout",
     "output_type": "stream",
     "text": [
      "2014\n",
      "2019\n"
     ]
    }
   ],
   "source": [
    "print(data['Year'].min())\n",
    "print(data['Year'].max())"
   ]
  },
  {
   "cell_type": "code",
   "execution_count": 18,
   "id": "4ad835da",
   "metadata": {},
   "outputs": [],
   "source": [
    "# train test split\n",
    "data_train = data.loc[data['Year'] != 2019]\n",
    "data_test = data.loc[data['Year'] == 2019]"
   ]
  },
  {
   "cell_type": "code",
   "execution_count": 19,
   "id": "a6837a74",
   "metadata": {},
   "outputs": [],
   "source": [
    "# construct X and y\n",
    "y_train = data_train.iloc[:,0]\n",
    "y_test = data_test.iloc[:,0]\n",
    "X_train = data_train.loc[:, ~data_train.columns.isin(['Value'])]\n",
    "X_test = data_test.loc[:, ~data_test.columns.isin(['Value'])]"
   ]
  },
  {
   "cell_type": "code",
   "execution_count": 20,
   "id": "e249d572",
   "metadata": {},
   "outputs": [],
   "source": [
    "# dummy variables for categorical columns\n",
    "obj_X_train = X_train.select_dtypes(include=['object']).copy()\n",
    "obj_X_train = pd.get_dummies(obj_X_train, dummy_na=True)\n",
    "\n",
    "obj_X_test = X_test.select_dtypes(include=['object']).copy()\n",
    "obj_X_test = pd.get_dummies(obj_X_test, dummy_na=True)"
   ]
  },
  {
   "cell_type": "code",
   "execution_count": 21,
   "id": "6122d599",
   "metadata": {},
   "outputs": [],
   "source": [
    "# impute with mean numerical columns\n",
    "not_obj_X_train = X_train.select_dtypes(exclude=['object']).copy()\n",
    "num_col = not_obj_X_train.columns\n",
    "imp = SimpleImputer(missing_values=np.nan, strategy='mean')\n",
    "not_obj_X_train[:] = imp.fit_transform(not_obj_X_train)\n",
    "\n",
    "not_obj_X_test = X_test.select_dtypes(exclude=['object']).copy()\n",
    "num_col = not_obj_X_test.columns\n",
    "imp = SimpleImputer(missing_values=np.nan, strategy='mean')\n",
    "not_obj_X_test[:] = imp.fit_transform(not_obj_X_test)"
   ]
  },
  {
   "cell_type": "code",
   "execution_count": 22,
   "id": "2b99c8ab",
   "metadata": {},
   "outputs": [],
   "source": [
    "# construct X again\n",
    "Xt_train = pd.concat([not_obj_X_train, obj_X_train], axis=1)\n",
    "Xt_test = pd.concat([not_obj_X_test, obj_X_test], axis=1)"
   ]
  },
  {
   "cell_type": "code",
   "execution_count": 23,
   "id": "ce52f1fa",
   "metadata": {},
   "outputs": [],
   "source": [
    "# scale y\n",
    "y_train = y_train.values.reshape(-1,1)\n",
    "y_test = y_test.values.reshape(-1,1)\n",
    "\n",
    "target_scaler = StandardScaler()\n",
    "target_scaler.fit(y_train)\n",
    "\n",
    "y_train = target_scaler.transform(y_train)\n",
    "y_test = target_scaler.transform(y_test)"
   ]
  },
  {
   "cell_type": "code",
   "execution_count": 24,
   "id": "48f6ed54",
   "metadata": {},
   "outputs": [],
   "source": [
    "miss_test = Xt_train.columns.difference(Xt_test.columns)\n",
    "miss_train = Xt_test.columns.difference(Xt_train.columns)"
   ]
  },
  {
   "cell_type": "code",
   "execution_count": 25,
   "id": "2eb6d8e6",
   "metadata": {},
   "outputs": [],
   "source": [
    "for i in miss_test:\n",
    "    Xt_test[i] = 0\n",
    "    \n",
    "for i in miss_train:    \n",
    "    Xt_train[i] = 0"
   ]
  },
  {
   "cell_type": "code",
   "execution_count": 26,
   "id": "09e3ccf9",
   "metadata": {},
   "outputs": [
    {
     "name": "stdout",
     "output_type": "stream",
     "text": [
      "(2233, 1)\n",
      "(2233, 76)\n"
     ]
    }
   ],
   "source": [
    "print(y_train.shape)\n",
    "print(Xt_train.shape)"
   ]
  },
  {
   "cell_type": "code",
   "execution_count": 27,
   "id": "51a366f7",
   "metadata": {},
   "outputs": [
    {
     "name": "stdout",
     "output_type": "stream",
     "text": [
      "(578, 1)\n",
      "(578, 76)\n"
     ]
    }
   ],
   "source": [
    "print(y_test.shape)\n",
    "print(Xt_test.shape)"
   ]
  },
  {
   "cell_type": "markdown",
   "id": "1e742e38",
   "metadata": {},
   "source": [
    "**KNN**"
   ]
  },
  {
   "cell_type": "code",
   "execution_count": 28,
   "id": "dcb2a94f",
   "metadata": {},
   "outputs": [],
   "source": [
    "# preprocessing data\n",
    "X_train_knn = Xt_train.copy()\n",
    "X_test_knn = Xt_test.copy()\n",
    "y_train_knn = y_train.copy()\n",
    "y_test_knn = y_test.copy()\n",
    "\n",
    "scaler = StandardScaler()  \n",
    "scaler.fit(X_train_knn[num_col]) # scaling only numerical variables\n",
    "\n",
    "X_train_knn[num_col] = scaler.transform(X_train_knn[num_col])  \n",
    "X_test_knn[num_col] = scaler.transform(X_test_knn[num_col]) "
   ]
  },
  {
   "cell_type": "code",
   "execution_count": 29,
   "id": "01717f78",
   "metadata": {},
   "outputs": [
    {
     "name": "stdout",
     "output_type": "stream",
     "text": [
      "best hyperparameters: {'n_neighbors': 19}\n",
      "best score: 0.2583834027764138\n",
      "MSE: 1.5143955929108064\n"
     ]
    }
   ],
   "source": [
    "# cv of hyperparameters\n",
    "params_knn = {'n_neighbors':[int(x) for x in np.linspace(start = 1, stop = 25, num = 5)]} # number of neighbors\n",
    "\n",
    "# fit\n",
    "knn = KNeighborsRegressor()\n",
    "model_knn = GridSearchCV(knn, params_knn, cv=2)\n",
    "model_knn.fit(X_train_knn,y_train_knn)\n",
    "print(\"best hyperparameters:\", model_knn.best_params_)\n",
    "print(\"best score:\", model_knn.best_score_)\n",
    "\n",
    "# predict\n",
    "y_pred_knn = model_knn.predict(X_test_knn)\n",
    "mse_knn = ((y_pred_knn - y_test_knn)**2).mean()\n",
    "print(\"MSE:\", mse_knn)"
   ]
  },
  {
   "cell_type": "markdown",
   "id": "51a9dbd2",
   "metadata": {},
   "source": [
    "**SVM**"
   ]
  },
  {
   "cell_type": "code",
   "execution_count": 30,
   "id": "28e27020",
   "metadata": {},
   "outputs": [],
   "source": [
    "# preprocessing data\n",
    "X_train_svm = Xt_train.copy()\n",
    "X_test_svm = Xt_test.copy()\n",
    "y_train_svm = y_train.copy()\n",
    "y_test_svm = y_test.copy()\n",
    "\n",
    "scaler = StandardScaler()  \n",
    "scaler.fit(X_train_svm[num_col]) # scaling only numerical variables\n",
    "\n",
    "X_train_svm[num_col] = scaler.transform(X_train_svm[num_col])  \n",
    "X_test_svm[num_col] = scaler.transform(X_test_svm[num_col]) "
   ]
  },
  {
   "cell_type": "code",
   "execution_count": 31,
   "id": "cea713cd",
   "metadata": {},
   "outputs": [],
   "source": [
    "# cv of hyperparameters\n",
    "C_range = 10. ** np.arange(-3, 4)\n",
    "gamma_range = 10. ** np.arange(-3, 4)\n",
    "params_svm = dict(gamma=gamma_range, C=C_range)"
   ]
  },
  {
   "cell_type": "code",
   "execution_count": 34,
   "id": "0c15541d",
   "metadata": {},
   "outputs": [
    {
     "name": "stdout",
     "output_type": "stream",
     "text": [
      "best hyperparameters: {'C': 1000.0, 'gamma': 0.1}\n",
      "best score: 0.32398167596983857\n",
      "MSE: 2.9042680310476214\n"
     ]
    }
   ],
   "source": [
    "# fit\n",
    "svm1 = SVR(kernel='rbf')\n",
    "model_svm1 = GridSearchCV(svm1, params_svm, cv=5)\n",
    "model_svm1.fit(X_train_svm,y_train_svm)\n",
    "print(\"best hyperparameters:\", model_svm1.best_params_)\n",
    "print(\"best score:\", model_svm1.best_score_)\n",
    "\n",
    "# predict\n",
    "y_pred_svm1 = model_svm1.predict(X_test_svm)\n",
    "mse_svm1 = ((y_pred_svm1 - y_test_svm)**2).mean()\n",
    "print(\"MSE:\", mse_svm1)"
   ]
  },
  {
   "cell_type": "code",
   "execution_count": 35,
   "id": "2e4acbcb",
   "metadata": {},
   "outputs": [
    {
     "name": "stdout",
     "output_type": "stream",
     "text": [
      "best hyperparameters: {'C': 100.0, 'gamma': 0.001}\n",
      "best score: 0.29066823672925884\n",
      "MSE: 2.0641975616191472\n"
     ]
    }
   ],
   "source": [
    "# fit\n",
    "svm2 = SVR(kernel='sigmoid')\n",
    "model_svm2 = GridSearchCV(svm2, params_svm, cv=5)\n",
    "model_svm2.fit(X_train_svm,y_train_svm)\n",
    "print(\"best hyperparameters:\", model_svm2.best_params_)\n",
    "print(\"best score:\", model_svm2.best_score_)\n",
    "\n",
    "# predict\n",
    "y_pred_svm2 = model_svm2.predict(X_test_svm)\n",
    "mse_svm2 = ((y_pred_svm2 - y_test_svm)**2).mean()\n",
    "print(\"MSE:\", mse_svm2)"
   ]
  },
  {
   "cell_type": "code",
   "execution_count": 36,
   "id": "9329bfb3",
   "metadata": {},
   "outputs": [
    {
     "name": "stdout",
     "output_type": "stream",
     "text": [
      "1.0381759520079339\n"
     ]
    }
   ],
   "source": [
    "baseline_pred = [np.average(y_test)] * len(y_test)\n",
    "baseline_pred = np.array(baseline_pred)\n",
    "baseline_pred = baseline_pred.reshape(-1,1)\n",
    "mse_baseline = ((baseline_pred - y_test)**2).mean()\n",
    "print(mse_baseline)"
   ]
  },
  {
   "cell_type": "code",
   "execution_count": 37,
   "id": "7fa6b850",
   "metadata": {},
   "outputs": [
    {
     "name": "stdout",
     "output_type": "stream",
     "text": [
      "MODEL NAME                    | MSE\n",
      "--------------------------------------------------\n",
      "Baseline                      | 1.03818\n",
      "KNN                           | 1.51440\n",
      "SVM RBF fitting               | 2.90427\n",
      "SVM sigmoid fitting           | 2.06420\n"
     ]
    }
   ],
   "source": [
    "print('MODEL NAME                    | MSE')\n",
    "print('-'*50)\n",
    "print(\"Baseline                      | {:.5f}\".format(mse_baseline))\n",
    "print(\"KNN                           | {:.5f}\".format(mse_knn))\n",
    "print(\"SVM RBF fitting               | {:.5f}\".format(mse_svm1))\n",
    "print(\"SVM sigmoid fitting           | {:.5f}\".format(mse_svm2))\n"
   ]
  },
  {
   "cell_type": "markdown",
   "id": "cd53eae1",
   "metadata": {},
   "source": [
    "**Results**"
   ]
  },
  {
   "cell_type": "code",
   "execution_count": 38,
   "id": "2487e5cf",
   "metadata": {},
   "outputs": [],
   "source": [
    "# revret y scaling\n",
    "y_test_knn_rev = target_scaler.inverse_transform(y_test_knn)\n",
    "y_pred_knn_rev = target_scaler.inverse_transform(y_pred_knn)"
   ]
  },
  {
   "cell_type": "code",
   "execution_count": 39,
   "id": "33f1efa2",
   "metadata": {},
   "outputs": [],
   "source": [
    "# create result df\n",
    "res = X_test_knn"
   ]
  },
  {
   "cell_type": "code",
   "execution_count": 40,
   "id": "0edb3450",
   "metadata": {},
   "outputs": [],
   "source": [
    "# revret X dummies\n",
    "# https://stackoverflow.com/questions/34523111/the-most-elegant-way-to-get-back-from-pandas-df-dummies\n",
    "from collections import defaultdict\n",
    "pos = defaultdict(list)\n",
    "vals = defaultdict(list)\n",
    "\n",
    "for i, c in enumerate(res.columns):\n",
    "    if \"_\" in c:\n",
    "        k, v = c.split(\"_\", 1)\n",
    "        pos[k].append(i)\n",
    "        vals[k].append(v)\n",
    "    else:\n",
    "        pos[\"_\"].append(i)\n",
    "        \n",
    "        \n",
    "#res.iloc[:, pos[\"Country\"]]\n",
    "#np.argmax(res.iloc[:, pos[\"Country\"]].values, axis=1)\n",
    "#pd.Categorical.from_codes(np.argmax(res.iloc[:, pos[\"Country\"]].values, axis=1), vals[\"Country\"])\n",
    "res = pd.DataFrame({k: pd.Categorical.from_codes(np.argmax(res.iloc[:, pos[k]].values, axis=1), vals[k]) for k in vals})"
   ]
  },
  {
   "cell_type": "code",
   "execution_count": 41,
   "id": "e1fb4130",
   "metadata": {},
   "outputs": [],
   "source": [
    "# add results to df\n",
    "res['value_test'] = y_test_knn_rev\n",
    "res['value_pred'] = y_pred_knn_rev"
   ]
  },
  {
   "cell_type": "code",
   "execution_count": 42,
   "id": "24703478",
   "metadata": {
    "scrolled": true
   },
   "outputs": [
    {
     "data": {
      "text/html": [
       "<div>\n",
       "<style scoped>\n",
       "    .dataframe tbody tr th:only-of-type {\n",
       "        vertical-align: middle;\n",
       "    }\n",
       "\n",
       "    .dataframe tbody tr th {\n",
       "        vertical-align: top;\n",
       "    }\n",
       "\n",
       "    .dataframe thead th {\n",
       "        text-align: right;\n",
       "    }\n",
       "</style>\n",
       "<table border=\"1\" class=\"dataframe\">\n",
       "  <thead>\n",
       "    <tr style=\"text-align: right;\">\n",
       "      <th></th>\n",
       "      <th>Skill</th>\n",
       "      <th>value_test</th>\n",
       "      <th>value_pred</th>\n",
       "    </tr>\n",
       "  </thead>\n",
       "  <tbody>\n",
       "    <tr>\n",
       "      <th>0</th>\n",
       "      <td>ARSP</td>\n",
       "      <td>17.634125</td>\n",
       "      <td>25.209705</td>\n",
       "    </tr>\n",
       "    <tr>\n",
       "      <th>1</th>\n",
       "      <td>CMFL</td>\n",
       "      <td>33.702164</td>\n",
       "      <td>17.832297</td>\n",
       "    </tr>\n",
       "    <tr>\n",
       "      <th>2</th>\n",
       "      <td>COPA</td>\n",
       "      <td>29.558606</td>\n",
       "      <td>20.361819</td>\n",
       "    </tr>\n",
       "    <tr>\n",
       "      <th>3</th>\n",
       "      <td>EMAIL</td>\n",
       "      <td>28.819391</td>\n",
       "      <td>20.881371</td>\n",
       "    </tr>\n",
       "    <tr>\n",
       "      <th>4</th>\n",
       "      <td>EPRS</td>\n",
       "      <td>15.529722</td>\n",
       "      <td>12.518412</td>\n",
       "    </tr>\n",
       "    <tr>\n",
       "      <th>5</th>\n",
       "      <td>INST</td>\n",
       "      <td>15.434085</td>\n",
       "      <td>14.978010</td>\n",
       "    </tr>\n",
       "    <tr>\n",
       "      <th>6</th>\n",
       "      <td>PCPR</td>\n",
       "      <td>3.468892</td>\n",
       "      <td>17.284517</td>\n",
       "    </tr>\n",
       "    <tr>\n",
       "      <th>7</th>\n",
       "      <td>SOFT</td>\n",
       "      <td>18.511188</td>\n",
       "      <td>13.458713</td>\n",
       "    </tr>\n",
       "    <tr>\n",
       "      <th>8</th>\n",
       "      <td>TRAF</td>\n",
       "      <td>29.670136</td>\n",
       "      <td>12.197727</td>\n",
       "    </tr>\n",
       "  </tbody>\n",
       "</table>\n",
       "</div>"
      ],
      "text/plain": [
       "   Skill  value_test  value_pred\n",
       "0   ARSP   17.634125   25.209705\n",
       "1   CMFL   33.702164   17.832297\n",
       "2   COPA   29.558606   20.361819\n",
       "3  EMAIL   28.819391   20.881371\n",
       "4   EPRS   15.529722   12.518412\n",
       "5   INST   15.434085   14.978010\n",
       "6   PCPR    3.468892   17.284517\n",
       "7   SOFT   18.511188   13.458713\n",
       "8   TRAF   29.670136   12.197727"
      ]
     },
     "execution_count": 42,
     "metadata": {},
     "output_type": "execute_result"
    }
   ],
   "source": [
    "# group by skill\n",
    "res_skill = res.groupby(['Skill']).mean()\n",
    "res_skill.reset_index(inplace=True)\n",
    "res_skill = res_skill.iloc[:-1 , :]\n",
    "res_skill"
   ]
  },
  {
   "cell_type": "code",
   "execution_count": 51,
   "id": "4f0af9ea",
   "metadata": {},
   "outputs": [
    {
     "data": {
      "image/png": "[encoded data removed]",
      "text/plain": [
       "<Figure size 432x288 with 1 Axes>"
      ]
     },
     "metadata": {
      "needs_background": "light"
     },
     "output_type": "display_data"
    }
   ],
   "source": [
    "x = np.arange(len(res_skill.Skill))  # the label locations\n",
    "width = 0.35  # the width of the bars\n",
    "\n",
    "fig, ax = plt.subplots()\n",
    "rects1 = ax.bar(x - width/2, res_skill.value_test, width, label='Given Values')\n",
    "rects2 = ax.bar(x + width/2, res_skill.value_pred, width, label='Predicted Values')\n",
    "\n",
    "ax.set_ylabel('Percentage (%)')\n",
    "ax.set_xlabel('Skill')\n",
    "ax.set_title('2019 Values - Given and Predicted')\n",
    "ax.set_xticks(x)\n",
    "ax.set_xticklabels(res_skill.Skill)\n",
    "ax.legend()\n",
    "\n",
    "fig.tight_layout()\n",
    "\n",
    "plt.show()"
   ]
  },
  {
   "cell_type": "code",
   "execution_count": 47,
   "id": "2363428e",
   "metadata": {},
   "outputs": [
    {
     "data": {
      "text/plain": [
       "EPRS     366\n",
       "TRAF     351\n",
       "ARSP     331\n",
       "PCPR     329\n",
       "CMFL     315\n",
       "SOFT     307\n",
       "COPA     296\n",
       "INST     262\n",
       "EMAIL    254\n",
       "Name: Skill, dtype: int64"
      ]
     },
     "execution_count": 47,
     "metadata": {},
     "output_type": "execute_result"
    }
   ],
   "source": [
    "data['Skill'].value_counts()\n",
    "#data.groupby([\"Skill\", \"Country\"]).size().reset_index(name=\"Count\")"
   ]
  },
  {
   "cell_type": "code",
   "execution_count": null,
   "id": "32cd5187",
   "metadata": {},
   "outputs": [],
   "source": []
  }
 ],
 "metadata": {
  "kernelspec": {
   "display_name": "Python 3",
   "language": "python",
   "name": "python3"
  },
  "language_info": {
   "codemirror_mode": {
    "name": "ipython",
    "version": 3
   },
   "file_extension": ".py",
   "mimetype": "text/x-python",
   "name": "python",
   "nbconvert_exporter": "python",
   "pygments_lexer": "ipython3",
   "version": "3.7.3"
  }
 },
 "nbformat": 4,
 "nbformat_minor": 5
}
